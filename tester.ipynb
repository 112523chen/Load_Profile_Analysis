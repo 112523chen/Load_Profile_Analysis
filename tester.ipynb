{
  "cells": [
    {
      "cell_type": "markdown",
      "metadata": {
        "id": "kk-j34NJf3Dq"
      },
      "source": [
        "#Setup\n",
        "\n",
        "---\n",
        "\n",
        "## Instructions\n",
        "1. Create a folder with all your inputs/Excel files (hourly or 15 min. inciments and weather data)\n",
        "2. Compress folder to a zip\n",
        "3. Place zipped file in directory section of collab\n",
        "6. Click on each [ ] to run block or click Run All within the Runtime tab and follow all prompts\n",
        "\n",
        "**Note that you will have input your zipped file every new session of this notebook**"
      ]
    },
    {
      "cell_type": "code",
      "execution_count": 1,
      "metadata": {
        "colab": {
          "base_uri": "https://localhost:8080/"
        },
        "id": "AqsCmuq_qSVC",
        "outputId": "4db705d3-5dfd-476d-ca90-a26c2b904c99"
      },
      "outputs": [],
      "source": [
        "folder_name = input(\"Enter zipped folder name\\n\")"
      ]
    },
    {
      "cell_type": "code",
      "execution_count": 2,
      "metadata": {
        "colab": {
          "base_uri": "https://localhost:8080/"
        },
        "id": "El7uJbm3elNg",
        "outputId": "9975e8b5-5fab-4fcf-b990-d0ad6c40350a"
      },
      "outputs": [
        {
          "name": "stdout",
          "output_type": "stream",
          "text": [
            "zsh:1: command not found: wget\n",
            "unzip:  cannot find or open inputs.zip, inputs.zip.zip or inputs.zip.ZIP.\n"
          ]
        }
      ],
      "source": [
        "!wget https://raw.githubusercontent.com/112523chen/Load_Profile_Analysis/master/EnrTracV3.py\n",
        "!unzip {folder_name}.zip"
      ]
    },
    {
      "cell_type": "code",
      "execution_count": null,
      "metadata": {
        "colab": {
          "base_uri": "https://localhost:8080/"
        },
        "id": "wslQsOeDfwCj",
        "outputId": "38a3b027-eea6-4ef9-8341-f9320f35a3bb"
      },
      "outputs": [
        {
          "name": "stdout",
          "output_type": "stream",
          "text": [
            "data.xlsx has been created\n"
          ]
        }
      ],
      "source": [
        "!python3 EnrTracV3.py {folder_name}"
      ]
    }
  ],
  "metadata": {
    "colab": {
      "collapsed_sections": [],
      "name": "tester.ipynb",
      "provenance": []
    },
    "kernelspec": {
      "display_name": "Python 3.10.4 64-bit",
      "language": "python",
      "name": "python3"
    },
    "language_info": {
      "codemirror_mode": {
        "name": "ipython",
        "version": 3
      },
      "file_extension": ".py",
      "mimetype": "text/x-python",
      "name": "python",
      "nbconvert_exporter": "python",
      "pygments_lexer": "ipython3",
      "version": "3.10.4"
    },
    "vscode": {
      "interpreter": {
        "hash": "aee8b7b246df8f9039afb4144a1f6fd8d2ca17a180786b69acc140d282b71a49"
      }
    }
  },
  "nbformat": 4,
  "nbformat_minor": 0
}
